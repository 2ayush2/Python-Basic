{
 "cells": [
  {
   "cell_type": "code",
   "execution_count": null,
   "id": "1db964d6-cc73-4158-9bd2-7e509ba8f6e1",
   "metadata": {},
   "outputs": [],
   "source": [
    "a=int(input(\"Value of a:\"))\n",
    "b=int(input(\"Value of b:\"))\n",
    "sum=a+b\n",
    "print(\"Sum\",sum)"
   ]
  },
  {
   "cell_type": "code",
   "execution_count": 7,
   "id": "afd3d793-0737-4ad9-8bd3-0e12ee8e647b",
   "metadata": {},
   "outputs": [
    {
     "name": "stdout",
     "output_type": "stream",
     "text": [
      "10.5\n",
      "ayush\n"
     ]
    }
   ],
   "source": [
    "x=10.5\n",
    "print(x)\n",
    "x=\"ayush\"\n",
    "print(x)"
   ]
  },
  {
   "cell_type": "code",
   "execution_count": null,
   "id": "12fd81ad-03b6-4cdb-87da-c3c114d29233",
   "metadata": {},
   "outputs": [],
   "source": [
    "### jljlkdls\n"
   ]
  },
  {
   "cell_type": "code",
   "execution_count": 8,
   "id": "c1c83e1f-27eb-47e6-99a2-c2836a114632",
   "metadata": {},
   "outputs": [
    {
     "name": "stdout",
     "output_type": "stream",
     "text": [
      "10.5\n",
      "2\n",
      "Ayush\n"
     ]
    }
   ],
   "source": [
    "x,y,z=10.5,2,\"Ayush\"\n",
    "print(x)\n",
    "print(y)\n",
    "print(z)"
   ]
  },
  {
   "cell_type": "code",
   "execution_count": 11,
   "id": "61aa3684-53fa-4c56-9fc9-52319a28ab86",
   "metadata": {},
   "outputs": [
    {
     "name": "stdout",
     "output_type": "stream",
     "text": [
      "<class 'str'>\n",
      "<class 'int'>\n",
      "<class 'float'>\n"
     ]
    }
   ],
   "source": [
    "x=\"ayush\"\n",
    "y=10\n",
    "z=10.5\n",
    "print(type (x))\n",
    "print(type (y))\n",
    "print(type (z))"
   ]
  },
  {
   "cell_type": "code",
   "execution_count": 13,
   "id": "6d71ae6a-7146-44df-a3d0-1c4be94375ea",
   "metadata": {},
   "outputs": [
    {
     "name": "stdout",
     "output_type": "stream",
     "text": [
      "13\n",
      "7\n",
      "30\n",
      "3.3333333333333335\n",
      "1\n",
      "1000\n",
      "3\n"
     ]
    }
   ],
   "source": [
    "x=10\n",
    "y=3\n",
    "add=x+y\n",
    "sub=x-y\n",
    "mul=x*y\n",
    "div=x/y\n",
    "mod=x%y\n",
    "exp=x**y\n",
    "floor=x//y\n",
    "print(add)\n",
    "print(sub)\n",
    "print(mul)\n",
    "print(div)\n",
    "print(mod)\n",
    "print(exp)\n",
    "print(floor)"
   ]
  },
  {
   "cell_type": "code",
   "execution_count": null,
   "id": "87309d25-2f83-4698-8bc1-d6e897213295",
   "metadata": {},
   "outputs": [],
   "source": [
    "## Basic operator"
   ]
  },
  {
   "cell_type": "code",
   "execution_count": 14,
   "id": "2a35f874-0a33-4d15-b77a-9376a6d69b0c",
   "metadata": {},
   "outputs": [
    {
     "name": "stdout",
     "output_type": "stream",
     "text": [
      "False\n",
      "False\n",
      "True\n",
      "True\n",
      "False\n"
     ]
    }
   ],
   "source": [
    "x=10\n",
    "y=3\n",
    "\n",
    "print(x==y)\n",
    "print(x<y)\n",
    "print(x>y)\n",
    "print(x>=y)\n",
    "print(x<=y)\n"
   ]
  },
  {
   "cell_type": "code",
   "execution_count": 22,
   "id": "6dd06960-0e7f-4b10-84df-4029115a031b",
   "metadata": {},
   "outputs": [
    {
     "name": "stdout",
     "output_type": "stream",
     "text": [
      "False\n",
      "True\n",
      "False\n"
     ]
    }
   ],
   "source": [
    "x=10\n",
    "y=3\n",
    "\n",
    "print(x<y and x<=y)\n",
    "print(x>y or y<x)\n",
    "print(not(x>y))\n"
   ]
  },
  {
   "cell_type": "code",
   "execution_count": 25,
   "id": "95c5883b-b64c-4729-9147-4ad050ec92ba",
   "metadata": {},
   "outputs": [
    {
     "name": "stdout",
     "output_type": "stream",
     "text": [
      "True\n",
      "False\n"
     ]
    }
   ],
   "source": [
    "x=10\n",
    "y=10\n",
    "\n",
    "print(x is y)\n",
    "print(x is not y)"
   ]
  },
  {
   "cell_type": "code",
   "execution_count": 32,
   "id": "bf968510-160c-4075-9084-01db244e7608",
   "metadata": {},
   "outputs": [
    {
     "name": "stdout",
     "output_type": "stream",
     "text": [
      "False\n",
      "True\n"
     ]
    }
   ],
   "source": [
    "x=[10,20,30]\n",
    "y=2\n",
    "z=3\n",
    "print(y in x)\n",
    "print(z not in x)"
   ]
  },
  {
   "cell_type": "code",
   "execution_count": 36,
   "id": "faddab37-df6d-4de4-af55-8215fcc9d634",
   "metadata": {},
   "outputs": [
    {
     "name": "stdout",
     "output_type": "stream",
     "text": [
      "10485760\n",
      "0\n"
     ]
    }
   ],
   "source": [
    "## BITWISE OPERATOR\n",
    "x=10\n",
    "y=20\n",
    "print(x<<y)\n",
    "print(x&y)"
   ]
  },
  {
   "cell_type": "code",
   "execution_count": null,
   "id": "ab8152cd-9b56-4361-8d07-6d0493a246c9",
   "metadata": {},
   "outputs": [],
   "source": []
  }
 ],
 "metadata": {
  "kernelspec": {
   "display_name": "Python 3 (ipykernel)",
   "language": "python",
   "name": "python3"
  },
  "language_info": {
   "codemirror_mode": {
    "name": "ipython",
    "version": 3
   },
   "file_extension": ".py",
   "mimetype": "text/x-python",
   "name": "python",
   "nbconvert_exporter": "python",
   "pygments_lexer": "ipython3",
   "version": "3.9.12"
  }
 },
 "nbformat": 4,
 "nbformat_minor": 5
}
